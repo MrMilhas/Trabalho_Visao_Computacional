{
 "cells": [
  {
   "cell_type": "markdown",
   "metadata": {},
   "source": [
    "# Trabalho de Visão Computacional"
   ]
  },
  {
   "cell_type": "markdown",
   "metadata": {},
   "source": [
    "## Importação das Bibliotecas:"
   ]
  },
  {
   "cell_type": "code",
   "execution_count": 1,
   "metadata": {},
   "outputs": [
    {
     "name": "stdout",
     "output_type": "stream",
     "text": [
      "Using cuda device\n"
     ]
    }
   ],
   "source": [
    "import torch\n",
    "from torch import nn\n",
    "from torch.utils.data import DataLoader\n",
    "from torchvision import datasets\n",
    "from torchvision.transforms import ToTensor\n",
    "\n",
    "import glob as gb\n",
    "import os\n",
    "from importlib import reload\n",
    "import sys\n",
    "from tqdm import tqdm\n",
    "import pandas as pd\n",
    "from torchvision.datasets import ImageFolder\n",
    "import torchvision.transforms as transforms\n",
    "from PIL import Image\n",
    "\n",
    "from models.alexNet import MY_AlexNet\n",
    "from models.vgg16 import MY_VGG16\n",
    "from utils.utils import *\n",
    "\n",
    "device = \"cuda\" if torch.cuda.is_available() else \"cpu\"\n",
    "print(f\"Using {device} device\")"
   ]
  },
  {
   "cell_type": "markdown",
   "metadata": {},
   "source": [
    "--------------------------------------"
   ]
  },
  {
   "cell_type": "markdown",
   "metadata": {},
   "source": [
    "## Configuração dos Datasets:"
   ]
  },
  {
   "cell_type": "markdown",
   "metadata": {},
   "source": [
    "* CIFAR-10:"
   ]
  },
  {
   "cell_type": "code",
   "execution_count": 2,
   "metadata": {},
   "outputs": [
    {
     "name": "stdout",
     "output_type": "stream",
     "text": [
      "Files already downloaded and verified\n",
      "Files already downloaded and verified\n"
     ]
    }
   ],
   "source": [
    "training_data_C10 = datasets.CIFAR10(\n",
    "    root=\"../data/datasets/\",\n",
    "    train=True,\n",
    "    download=True,\n",
    "    transform=ToTensor(),\n",
    ")\n",
    "\n",
    "test_data_C10 = datasets.CIFAR10(\n",
    "    root=\"../data/datasets/\",\n",
    "    train=False,\n",
    "    download=True,\n",
    "    transform=ToTensor(),\n",
    ")"
   ]
  },
  {
   "cell_type": "code",
   "execution_count": 4,
   "metadata": {},
   "outputs": [
    {
     "data": {
      "text/plain": [
       "(Dataset CIFAR10\n",
       "     Number of datapoints: 50000\n",
       "     Root location: ../data/datasets/\n",
       "     Split: Train\n",
       "     StandardTransform\n",
       " Transform: ToTensor(),\n",
       " Dataset CIFAR10\n",
       "     Number of datapoints: 10000\n",
       "     Root location: ../data/datasets/\n",
       "     Split: Test\n",
       "     StandardTransform\n",
       " Transform: ToTensor())"
      ]
     },
     "execution_count": 4,
     "metadata": {},
     "output_type": "execute_result"
    }
   ],
   "source": [
    "training_data_C10, test_data_C10"
   ]
  },
  {
   "cell_type": "markdown",
   "metadata": {},
   "source": [
    "* Building-vs-forests:"
   ]
  },
  {
   "cell_type": "code",
   "execution_count": null,
   "metadata": {},
   "outputs": [],
   "source": [
    "from zipfile import ZipFile\n",
    "\n",
    "with ZipFile(\"../data/datasets/buildings-vs-forests/test_set.zip\", 'r') as zip_ref:\n",
    "    zip_ref.extractall(\"../data/datasets/buildings-vs-forests/\")\n",
    "    \n",
    "with ZipFile(\"../data/datasets/buildings-vs-forests/traning_set.zip\", 'r') as zip_ref:\n",
    "    zip_ref.extractall(\"../data/datasets/buildings-vs-forests/\")"
   ]
  },
  {
   "cell_type": "code",
   "execution_count": 4,
   "metadata": {},
   "outputs": [],
   "source": [
    "tfm = transforms.Compose([\n",
    "    transforms.Resize((64,64)),\n",
    "    transforms.ToTensor(),\n",
    "    transforms.Normalize([0.5, 0.5, 0.5],[0.5, 0.5, 0.5])   \n",
    "])"
   ]
  },
  {
   "cell_type": "code",
   "execution_count": 5,
   "metadata": {},
   "outputs": [
    {
     "data": {
      "text/plain": [
       "{'buildings': 0, 'forest': 1}"
      ]
     },
     "execution_count": 5,
     "metadata": {},
     "output_type": "execute_result"
    }
   ],
   "source": [
    "trian_path = '../data/datasets/buildings-vs-forests/traning_set'\n",
    "test_path = '../data/datasets/buildings-vs-forests/test_set'\n",
    "\n",
    "training_data_BF = ImageFolder(trian_path, transform = tfm)\n",
    "test_data_BF = ImageFolder(test_path, transform = tfm)\n",
    "\n",
    "len_train = len(training_data_BF)\n",
    "len_test = len(test_data_BF)\n",
    "\n",
    "training_data_BF.class_to_idx\n",
    "test_data_BF.class_to_idx"
   ]
  },
  {
   "cell_type": "markdown",
   "metadata": {},
   "source": [
    "-----------------------"
   ]
  },
  {
   "cell_type": "markdown",
   "metadata": {},
   "source": [
    "## Treinamento e Avaliação - CIFAR10:"
   ]
  },
  {
   "cell_type": "markdown",
   "metadata": {},
   "source": [
    "### AlexNet:"
   ]
  },
  {
   "cell_type": "markdown",
   "metadata": {},
   "source": [
    "* Variando Epócas:"
   ]
  },
  {
   "cell_type": "code",
   "execution_count": null,
   "metadata": {},
   "outputs": [],
   "source": [
    "epochs = [5, 10, 20, 50]\n",
    "accuracys = []\n",
    "errors = []\n",
    "\n",
    "accuracy = 0\n",
    "error = 999\n",
    "\n",
    "for epoch in tqdm(epochs):\n",
    "    batch_size = 64\n",
    "    train_dataloader = DataLoader(training_data_C10, batch_size=batch_size)\n",
    "    test_dataloader = DataLoader(test_data_C10, batch_size=batch_size)\n",
    "\n",
    "    model = MY_AlexNet(n_classes = 10)\n",
    "    if torch.cuda.is_available():\n",
    "        model.cuda()\n",
    "\n",
    "    loss_fn = nn.CrossEntropyLoss()\n",
    "    optimizer = torch.optim.SGD(model.parameters(), lr=1e-3)\n",
    "\n",
    "    for t in range(epoch):\n",
    "        train(train_dataloader, model, loss_fn, optimizer, device)\n",
    "        accuracy, error = test_for_class(test_dataloader, model, loss_fn, device)\n",
    "    \n",
    "    accuracys.append(accuracy)\n",
    "    errors.append(error)\n",
    "\n",
    "df = pd.DataFrame({'5 Epochs': accuracys[0], '10 Epochs': accuracys[1], '20 Epochs': accuracys[2], '50 Epochs': accuracys[3]})\n",
    "df.to_csv('../data/results/cifar10_alexNet_epochs.csv', index=False)\n",
    "df"
   ]
  },
  {
   "cell_type": "markdown",
   "metadata": {},
   "source": [
    "* Variando Batch Size:"
   ]
  },
  {
   "cell_type": "code",
   "execution_count": null,
   "metadata": {},
   "outputs": [],
   "source": [
    "batch_sizes = [32, 64, 128, 256]\n",
    "accuracys = []\n",
    "errors = []\n",
    "\n",
    "accuracy = 0\n",
    "error = 999\n",
    "\n",
    "for batch_size in batch_sizes:\n",
    "    train_dataloader = DataLoader(training_data_C10, batch_size=batch_size)\n",
    "    test_dataloader = DataLoader(test_data_C10, batch_size=batch_size)\n",
    "\n",
    "    model = MY_AlexNet(n_classes = 10)\n",
    "    if torch.cuda.is_available():\n",
    "        model.cuda()\n",
    "\n",
    "    loss_fn = nn.CrossEntropyLoss()\n",
    "    optimizer = torch.optim.SGD(model.parameters(), lr=1e-3)\n",
    "\n",
    "    epochs = 50\n",
    "    for t in range(50):\n",
    "        train(train_dataloader, model, loss_fn, optimizer, device)\n",
    "        accuracy, error = test_for_class(test_dataloader, model, loss_fn, device)\n",
    "        \n",
    "    accuracys.append(accuracy)\n",
    "    errors.append(error)\n",
    "\n",
    "df = pd.DataFrame({'Batch Size: 32': accuracys[0], 'Batch Size: 64': accuracys[1], 'Batch Size: 128': accuracys[2], 'Batch Size: 256': accuracys[3]})\n",
    "df.to_csv('../data/results/cifar10_alexNet_batchSize.csv', index=False)\n",
    "df"
   ]
  },
  {
   "cell_type": "markdown",
   "metadata": {},
   "source": [
    "* Variando Taxa de Aprendizado:"
   ]
  },
  {
   "cell_type": "code",
   "execution_count": null,
   "metadata": {},
   "outputs": [],
   "source": [
    "learnings = [1e-2, 1e-3, 1e-4, 1e-5]\n",
    "accuracys = []\n",
    "errors = []\n",
    "\n",
    "accuracy = 0\n",
    "error = 999\n",
    "\n",
    "for rate in tqdm(learnings):\n",
    "    train_dataloader = DataLoader(training_data_C10, batch_size=32)\n",
    "    test_dataloader = DataLoader(test_data_C10, batch_size=32)\n",
    "\n",
    "    model = MY_AlexNet(n_classes = 10)\n",
    "    if torch.cuda.is_available():\n",
    "        model.cuda()\n",
    "\n",
    "    loss_fn = nn.CrossEntropyLoss()\n",
    "    optimizer = torch.optim.SGD(model.parameters(), lr=rate)\n",
    "\n",
    "    epochs = 50\n",
    "    for t in range(50):\n",
    "        train(train_dataloader, model, loss_fn, optimizer, device)\n",
    "        accuracy, error = test_for_class(test_dataloader, model, loss_fn, device)\n",
    "\n",
    "    accuracys.append(accuracy)\n",
    "    errors.append(error)\n",
    "\n",
    "df = pd.DataFrame({'Learning Rate: 1e-2': accuracys[0], 'Learning Rate: 1e-3': accuracys[1], 'Learning Rate: 1e-4': accuracys[2], 'Learning Rate: 1e-5': accuracys[3]})\n",
    "df.to_csv('../data/results/cifar10_alexNet_learnRate.csv', index=False)\n",
    "df"
   ]
  },
  {
   "cell_type": "markdown",
   "metadata": {},
   "source": [
    "* Avaliando Melhor Configuração:"
   ]
  },
  {
   "cell_type": "code",
   "execution_count": 8,
   "metadata": {},
   "outputs": [
    {
     "name": "stderr",
     "output_type": "stream",
     "text": [
      "100%|██████████| 3/3 [43:28<00:00, 869.57s/it]\n"
     ]
    },
    {
     "data": {
      "text/html": [
       "<div>\n",
       "<style scoped>\n",
       "    .dataframe tbody tr th:only-of-type {\n",
       "        vertical-align: middle;\n",
       "    }\n",
       "\n",
       "    .dataframe tbody tr th {\n",
       "        vertical-align: top;\n",
       "    }\n",
       "\n",
       "    .dataframe thead th {\n",
       "        text-align: right;\n",
       "    }\n",
       "</style>\n",
       "<table border=\"1\" class=\"dataframe\">\n",
       "  <thead>\n",
       "    <tr style=\"text-align: right;\">\n",
       "      <th></th>\n",
       "      <th>Accuracy</th>\n",
       "      <th>Error</th>\n",
       "    </tr>\n",
       "  </thead>\n",
       "  <tbody>\n",
       "    <tr>\n",
       "      <th>0</th>\n",
       "      <td>69.38</td>\n",
       "      <td>2.133259</td>\n",
       "    </tr>\n",
       "    <tr>\n",
       "      <th>1</th>\n",
       "      <td>69.65</td>\n",
       "      <td>2.183614</td>\n",
       "    </tr>\n",
       "    <tr>\n",
       "      <th>2</th>\n",
       "      <td>70.45</td>\n",
       "      <td>2.166856</td>\n",
       "    </tr>\n",
       "  </tbody>\n",
       "</table>\n",
       "</div>"
      ],
      "text/plain": [
       "   Accuracy     Error\n",
       "0     69.38  2.133259\n",
       "1     69.65  2.183614\n",
       "2     70.45  2.166856"
      ]
     },
     "execution_count": 8,
     "metadata": {},
     "output_type": "execute_result"
    }
   ],
   "source": [
    "accuracys = []\n",
    "errors = []\n",
    "\n",
    "accuracy = 0\n",
    "error = 999\n",
    "\n",
    "batch_size = 32\n",
    "epochs = 50\n",
    "learning = 1e-2\n",
    "\n",
    "for i in tqdm(range(3)):\n",
    "    train_dataloader = DataLoader(training_data_C10, batch_size=batch_size)\n",
    "    test_dataloader = DataLoader(test_data_C10, batch_size=batch_size)\n",
    "\n",
    "    model = MY_AlexNet(n_classes = 10)\n",
    "    if torch.cuda.is_available():\n",
    "        model.cuda()\n",
    "\n",
    "    loss_fn = nn.CrossEntropyLoss()\n",
    "    optimizer = torch.optim.SGD(model.parameters(), lr=learning)\n",
    "\n",
    "    epochs = 50\n",
    "    for t in range(50):\n",
    "        train(train_dataloader, model, loss_fn, optimizer, device)\n",
    "        accuracy, error = test_for_class(test_dataloader, model, loss_fn, device)\n",
    "\n",
    "    accuracys.append(accuracy)\n",
    "    errors.append(error)\n",
    "\n",
    "df = pd.DataFrame({'Iter 1': accuracys[0], 'Iter 2': accuracys[1], 'Iter 3': accuracys[2]})\n",
    "df.to_csv('../data/results/cifar10_alexNet_bestConfig.csv', index=False)\n",
    "df"
   ]
  },
  {
   "cell_type": "markdown",
   "metadata": {},
   "source": [
    "### VGG16:"
   ]
  },
  {
   "cell_type": "markdown",
   "metadata": {},
   "source": [
    "* Variando Épocas:"
   ]
  },
  {
   "cell_type": "code",
   "execution_count": null,
   "metadata": {},
   "outputs": [],
   "source": [
    "epochs = [1, 10, 20, 50]\n",
    "accuracys = []\n",
    "errors = []\n",
    "\n",
    "accuracy = []\n",
    "error = 999\n",
    "\n",
    "for epoch in tqdm(epochs):\n",
    "    batch_size = 64\n",
    "    train_dataloader = DataLoader(training_data_C10, batch_size=batch_size)\n",
    "    test_dataloader = DataLoader(test_data_C10, batch_size=batch_size)\n",
    "\n",
    "    model = MY_VGG16(n_classes = 10)\n",
    "    if torch.cuda.is_available():\n",
    "        model.cuda()\n",
    "\n",
    "    loss_fn = nn.CrossEntropyLoss()\n",
    "    optimizer = torch.optim.SGD(model.parameters(), lr=1e-3)\n",
    "\n",
    "    for t in range(epoch):\n",
    "        train(train_dataloader, model, loss_fn, optimizer, device)\n",
    "        accuracy, error = test_for_class(test_dataloader, model, loss_fn, device)\n",
    "    \n",
    "    accuracys.append(accuracy)\n",
    "    errors.append(error)\n",
    "\n",
    "df = pd.DataFrame({'5 Epochs': accuracys[0], '10 Epochs': accuracys[1], '20 Epochs': accuracys[2], '50 Epochs': accuracys[3]})\n",
    "df.to_csv('../data/results/cifar10_vgg16_epochs.csv', index=False)\n",
    "df"
   ]
  },
  {
   "cell_type": "markdown",
   "metadata": {},
   "source": [
    "* Variando Batch Size:"
   ]
  },
  {
   "cell_type": "code",
   "execution_count": null,
   "metadata": {},
   "outputs": [],
   "source": [
    "batch_sizes = [32, 64, 128, 256]\n",
    "accuracys = []\n",
    "errors = []\n",
    "\n",
    "accuracy = 0\n",
    "error = 999\n",
    "\n",
    "for batch_size in tqdm(batch_sizes):\n",
    "    train_dataloader = DataLoader(training_data_C10, batch_size=batch_size)\n",
    "    test_dataloader = DataLoader(test_data_C10, batch_size=batch_size)\n",
    "\n",
    "    model = MY_VGG16(n_classes = 10)\n",
    "    if torch.cuda.is_available():\n",
    "        model.cuda()\n",
    "\n",
    "    loss_fn = nn.CrossEntropyLoss()\n",
    "    optimizer = torch.optim.SGD(model.parameters(), lr=1e-3)\n",
    "\n",
    "    epochs = 50\n",
    "    for t in range(50):\n",
    "        train(train_dataloader, model, loss_fn, optimizer, device)\n",
    "        accuracy, error = test_for_class(test_dataloader, model, loss_fn, device)\n",
    "        \n",
    "    accuracys.append(accuracy)\n",
    "    errors.append(error)\n",
    "\n",
    "df = pd.DataFrame({'Batch Size: 32': accuracys[0], 'Batch Size: 64': accuracys[1], 'Batch Size: 128': accuracys[2], 'Batch Size: 256': accuracys[3]})\n",
    "df.to_csv('../data/results/cifar10_vgg16_batchSize.csv', index=False)\n",
    "df"
   ]
  },
  {
   "cell_type": "markdown",
   "metadata": {},
   "source": [
    "* Variando Taxa de Aprendizado:"
   ]
  },
  {
   "cell_type": "code",
   "execution_count": null,
   "metadata": {},
   "outputs": [],
   "source": [
    "learnings = [1e-2, 1e-3, 1e-4, 1e-5]\n",
    "accuracys = []\n",
    "errors = []\n",
    "\n",
    "accuracy = 0\n",
    "error = 999\n",
    "\n",
    "for rate in tqdm(learnings):\n",
    "    train_dataloader = DataLoader(training_data_C10, batch_size=32)\n",
    "    test_dataloader = DataLoader(test_data_C10, batch_size=32)\n",
    "\n",
    "    model = MY_VGG16(n_classes = 10)\n",
    "    if torch.cuda.is_available():\n",
    "        model.cuda()\n",
    "\n",
    "    loss_fn = nn.CrossEntropyLoss()\n",
    "    optimizer = torch.optim.SGD(model.parameters(), lr=rate)\n",
    "\n",
    "    epochs = 50\n",
    "    for t in range(50):\n",
    "        train(train_dataloader, model, loss_fn, optimizer, device)\n",
    "        accuracy, error = test_for_class(test_dataloader, model, loss_fn, device)\n",
    "\n",
    "    accuracys.append(accuracy)\n",
    "    errors.append(error)\n",
    "\n",
    "df = pd.DataFrame({'Learning Rate: 1e-2': accuracys[0], 'Learning Rate: 1e-3': accuracys[1], 'Learning Rate: 1e-4': accuracys[2], 'Learning Rate: 1e-5': accuracys[3]})\n",
    "df.to_csv('../data/results/cifar10_vgg16_learnRate.csv', index=False)\n",
    "df"
   ]
  },
  {
   "cell_type": "markdown",
   "metadata": {},
   "source": [
    "* Avaliando Melhor Configuração:"
   ]
  },
  {
   "cell_type": "code",
   "execution_count": null,
   "metadata": {},
   "outputs": [],
   "source": [
    "accuracys = []\n",
    "errors = []\n",
    "\n",
    "accuracy = 0\n",
    "error = 999\n",
    "\n",
    "batch_size = 32\n",
    "epochs = 50\n",
    "learning = 1e-2\n",
    "\n",
    "for i in tqdm(range(3)):\n",
    "    train_dataloader = DataLoader(training_data_C10, batch_size=batch_size)\n",
    "    test_dataloader = DataLoader(test_data_C10, batch_size=batch_size)\n",
    "\n",
    "    model = MY_VGG16(n_classes = 10)\n",
    "    if torch.cuda.is_available():\n",
    "        model.cuda()\n",
    "\n",
    "    loss_fn = nn.CrossEntropyLoss()\n",
    "    optimizer = torch.optim.SGD(model.parameters(), lr=learning)\n",
    "\n",
    "    epochs = 50\n",
    "    for t in range(50):\n",
    "        train(train_dataloader, model, loss_fn, optimizer, device)\n",
    "        accuracy, error = test_for_class(test_dataloader, model, loss_fn, device)\n",
    "\n",
    "    accuracys.append(accuracy)\n",
    "    errors.append(error)\n",
    "\n",
    "df = pd.DataFrame({'Iter 1': accuracys[0], 'Iter 2': accuracys[1], 'Iter 3': accuracys[2]})\n",
    "df.to_csv('../data/results/cifar10_vgg16_bestConfig.csv', index=False)\n",
    "df"
   ]
  },
  {
   "cell_type": "markdown",
   "metadata": {},
   "source": [
    "------------------------"
   ]
  },
  {
   "cell_type": "markdown",
   "metadata": {},
   "source": [
    "## Treinamento e Avaliação - Building-vs-Forest:"
   ]
  },
  {
   "cell_type": "markdown",
   "metadata": {},
   "source": [
    "### AlexNet:"
   ]
  },
  {
   "cell_type": "markdown",
   "metadata": {},
   "source": [
    "* Variando Épocas:"
   ]
  },
  {
   "cell_type": "code",
   "execution_count": null,
   "metadata": {},
   "outputs": [],
   "source": [
    "epochs = [5, 10, 20, 50]\n",
    "accuracys = []\n",
    "errors = []\n",
    "\n",
    "accuracy = 0\n",
    "error = 999\n",
    "\n",
    "for epoch in tqdm(epochs):\n",
    "    batch_size = 64\n",
    "    train_dataloader = DataLoader(training_data_BF, batch_size=batch_size)\n",
    "    test_dataloader = DataLoader(test_data_BF, batch_size=batch_size)\n",
    "\n",
    "    model = MY_AlexNet(n_classes = 2)\n",
    "    if torch.cuda.is_available():\n",
    "        model.cuda()\n",
    "\n",
    "    loss_fn = nn.CrossEntropyLoss()\n",
    "    optimizer = torch.optim.SGD(model.parameters(), lr=1e-3)\n",
    "\n",
    "    for t in range(epoch):\n",
    "        train(train_dataloader, model, loss_fn, optimizer, device)\n",
    "        accuracy, error = test(test_dataloader, model, loss_fn, device)\n",
    "    \n",
    "    accuracys.append(accuracy)\n",
    "    errors.append(error)\n",
    "\n",
    "df = pd.DataFrame({'Epochs': epochs, 'Accuracy': accuracys, 'Error': errors})\n",
    "df.to_csv('../data/results/BF_alexNet_epochs.csv', index=False)\n",
    "df"
   ]
  },
  {
   "cell_type": "markdown",
   "metadata": {},
   "source": [
    "* Variando Batch Size:"
   ]
  },
  {
   "cell_type": "code",
   "execution_count": null,
   "metadata": {},
   "outputs": [],
   "source": [
    "batch_sizes = [32, 64, 128, 256]\n",
    "accuracys = []\n",
    "errors = []\n",
    "\n",
    "accuracy = 0\n",
    "error = 999\n",
    "\n",
    "for batch_size in tqdm(batch_sizes):\n",
    "    train_dataloader = DataLoader(training_data_C10, batch_size=batch_size)\n",
    "    test_dataloader = DataLoader(test_data_C10, batch_size=batch_size)\n",
    "\n",
    "    model = MY_AlexNet(n_classes = 10)\n",
    "    if torch.cuda.is_available():\n",
    "        model.cuda()\n",
    "\n",
    "    loss_fn = nn.CrossEntropyLoss()\n",
    "    optimizer = torch.optim.SGD(model.parameters(), lr=1e-3)\n",
    "\n",
    "    epochs = 50\n",
    "    for t in range(50):\n",
    "        train(train_dataloader, model, loss_fn, optimizer, device)\n",
    "        accuracy, error = test(test_dataloader, model, loss_fn, device)\n",
    "        \n",
    "    accuracys.append(accuracy)\n",
    "    errors.append(error)\n",
    "\n",
    "df = pd.DataFrame({'Batch Size': batch_sizes, 'Accuracy': accuracys, 'Error': errors})\n",
    "df.to_csv('../data/results/BF_alexNet_batchSize.csv', index=False)\n",
    "df"
   ]
  },
  {
   "cell_type": "markdown",
   "metadata": {},
   "source": [
    "* Variando Taxa de Aprendizado:"
   ]
  },
  {
   "cell_type": "code",
   "execution_count": null,
   "metadata": {},
   "outputs": [],
   "source": [
    "learnings = [1e-2, 1e-3, 1e-4, 1e-5]\n",
    "accuracys = []\n",
    "errors = []\n",
    "\n",
    "accuracy = 0\n",
    "error = 999\n",
    "\n",
    "for rate in tqdm(learnings):\n",
    "    train_dataloader = DataLoader(training_data_C10, batch_size=32)\n",
    "    test_dataloader = DataLoader(test_data_C10, batch_size=32)\n",
    "\n",
    "    model = MY_AlexNet(n_classes = 10)\n",
    "    if torch.cuda.is_available():\n",
    "        model.cuda()\n",
    "\n",
    "    loss_fn = nn.CrossEntropyLoss()\n",
    "    optimizer = torch.optim.SGD(model.parameters(), lr=rate)\n",
    "\n",
    "    epochs = 50\n",
    "    for t in range(50):\n",
    "        train(train_dataloader, model, loss_fn, optimizer, device)\n",
    "        accuracy, error = test(test_dataloader, model, loss_fn, device)\n",
    "\n",
    "    accuracys.append(accuracy)\n",
    "    errors.append(error)\n",
    "\n",
    "df = pd.DataFrame({'Learning Rate': learnings, 'Accuracy': accuracys, 'Error': errors})\n",
    "df.to_csv('../data/results/BF_alexNet_learnRate.csv', index=False)\n",
    "df"
   ]
  },
  {
   "cell_type": "markdown",
   "metadata": {},
   "source": [
    "* Avaliando Melhor Configuração:"
   ]
  },
  {
   "cell_type": "code",
   "execution_count": null,
   "metadata": {},
   "outputs": [],
   "source": [
    "accuracys = []\n",
    "errors = []\n",
    "\n",
    "accuracy = 0\n",
    "error = 999\n",
    "\n",
    "batch_size = 32\n",
    "epochs = 50\n",
    "learning = 1e-2\n",
    "\n",
    "for i in tqdm(range(3)):\n",
    "    train_dataloader = DataLoader(training_data_C10, batch_size=batch_size)\n",
    "    test_dataloader = DataLoader(test_data_C10, batch_size=batch_size)\n",
    "\n",
    "    model = MY_AlexNet(n_classes = 10)\n",
    "    if torch.cuda.is_available():\n",
    "        model.cuda()\n",
    "\n",
    "    loss_fn = nn.CrossEntropyLoss()\n",
    "    optimizer = torch.optim.SGD(model.parameters(), lr=learning)\n",
    "\n",
    "    epochs = 50\n",
    "    for t in range(50):\n",
    "        train(train_dataloader, model, loss_fn, optimizer, device)\n",
    "        accuracy, error = test(test_dataloader, model, loss_fn, device)\n",
    "\n",
    "    accuracys.append(accuracy)\n",
    "    errors.append(error)\n",
    "\n",
    "df = pd.DataFrame({'Accuracy': accuracys, 'Error': errors})\n",
    "df.to_csv('../data/results/BF_alexNet_bestConfig.csv', index=False)\n",
    "df"
   ]
  },
  {
   "cell_type": "markdown",
   "metadata": {},
   "source": [
    "### VGG16:"
   ]
  },
  {
   "cell_type": "markdown",
   "metadata": {},
   "source": [
    "* Variando Épocas:"
   ]
  },
  {
   "cell_type": "code",
   "execution_count": null,
   "metadata": {},
   "outputs": [],
   "source": [
    "epochs = [5, 10, 20, 50]\n",
    "accuracys = []\n",
    "errors = []\n",
    "\n",
    "accuracy = 0\n",
    "error = 999\n",
    "\n",
    "for epoch in tqdm(epochs):\n",
    "    batch_size = 64\n",
    "    train_dataloader = DataLoader(training_data_BF, batch_size=batch_size)\n",
    "    test_dataloader = DataLoader(test_data_BF, batch_size=batch_size)\n",
    "\n",
    "    model = MY_VGG16(n_classes = 2)\n",
    "    if torch.cuda.is_available():\n",
    "        model.cuda()\n",
    "\n",
    "    loss_fn = nn.CrossEntropyLoss()\n",
    "    optimizer = torch.optim.SGD(model.parameters(), lr=1e-3)\n",
    "\n",
    "    for t in range(epoch):\n",
    "        train(train_dataloader, model, loss_fn, optimizer, device)\n",
    "        accuracy, error = test(test_dataloader, model, loss_fn, device)\n",
    "    \n",
    "    accuracys.append(accuracy)\n",
    "    errors.append(error)\n",
    "\n",
    "df = pd.DataFrame({'Epochs': epochs, 'Accuracy': accuracys, 'Error': errors})\n",
    "df.to_csv('../data/results/BF_vgg16_epochs.csv', index=False)\n",
    "df"
   ]
  },
  {
   "cell_type": "markdown",
   "metadata": {},
   "source": [
    "* Variando Batch Size:"
   ]
  },
  {
   "cell_type": "code",
   "execution_count": null,
   "metadata": {},
   "outputs": [],
   "source": [
    "batch_sizes = [32, 64, 128, 256]\n",
    "accuracys = []\n",
    "errors = []\n",
    "\n",
    "accuracy = 0\n",
    "error = 999\n",
    "\n",
    "for batch_size in tqdm(batch_sizes):\n",
    "    train_dataloader = DataLoader(training_data_C10, batch_size=batch_size)\n",
    "    test_dataloader = DataLoader(test_data_C10, batch_size=batch_size)\n",
    "\n",
    "    model = MY_VGG16(n_classes = 10)\n",
    "    if torch.cuda.is_available():\n",
    "        model.cuda()\n",
    "\n",
    "    loss_fn = nn.CrossEntropyLoss()\n",
    "    optimizer = torch.optim.SGD(model.parameters(), lr=1e-3)\n",
    "\n",
    "    epochs = 50\n",
    "    for t in range(50):\n",
    "        train(train_dataloader, model, loss_fn, optimizer, device)\n",
    "        accuracy, error = test(test_dataloader, model, loss_fn, device)\n",
    "        \n",
    "    accuracys.append(accuracy)\n",
    "    errors.append(error)\n",
    "\n",
    "df = pd.DataFrame({'Batch Size': batch_sizes, 'Accuracy': accuracys, 'Error': errors})\n",
    "df.to_csv('../data/results/BF_vgg16_batchSize.csv', index=False)\n",
    "df"
   ]
  },
  {
   "cell_type": "markdown",
   "metadata": {},
   "source": [
    "* Variando Taxa de Aprendizado:"
   ]
  },
  {
   "cell_type": "code",
   "execution_count": null,
   "metadata": {},
   "outputs": [],
   "source": [
    "learnings = [1e-2, 1e-3, 1e-4, 1e-5]\n",
    "accuracys = []\n",
    "errors = []\n",
    "\n",
    "accuracy = 0\n",
    "error = 999\n",
    "\n",
    "for rate in tqdm(learnings):\n",
    "    train_dataloader = DataLoader(training_data_C10, batch_size=32)\n",
    "    test_dataloader = DataLoader(test_data_C10, batch_size=32)\n",
    "\n",
    "    model = MY_VGG16(n_classes = 10)\n",
    "    if torch.cuda.is_available():\n",
    "        model.cuda()\n",
    "\n",
    "    loss_fn = nn.CrossEntropyLoss()\n",
    "    optimizer = torch.optim.SGD(model.parameters(), lr=rate)\n",
    "\n",
    "    epochs = 50\n",
    "    for t in range(50):\n",
    "        train(train_dataloader, model, loss_fn, optimizer, device)\n",
    "        accuracy, error = test(test_dataloader, model, loss_fn, device)\n",
    "\n",
    "    accuracys.append(accuracy)\n",
    "    errors.append(error)\n",
    "\n",
    "df = pd.DataFrame({'Learning Rate': learnings, 'Accuracy': accuracys, 'Error': errors})\n",
    "df.to_csv('../data/results/BF_vgg16_learnRate.csv', index=False)\n",
    "df"
   ]
  },
  {
   "cell_type": "markdown",
   "metadata": {},
   "source": [
    "* Avaliando Melhor Configuração:"
   ]
  },
  {
   "cell_type": "code",
   "execution_count": null,
   "metadata": {},
   "outputs": [],
   "source": [
    "accuracys = []\n",
    "errors = []\n",
    "\n",
    "accuracy = 0\n",
    "error = 999\n",
    "\n",
    "batch_size = 32\n",
    "epochs = 50\n",
    "learning = 1e-2\n",
    "\n",
    "for i in tqdm(range(3)):\n",
    "    train_dataloader = DataLoader(training_data_C10, batch_size=batch_size)\n",
    "    test_dataloader = DataLoader(test_data_C10, batch_size=batch_size)\n",
    "\n",
    "    model = MY_VGG16(n_classes = 10)\n",
    "    if torch.cuda.is_available():\n",
    "        model.cuda()\n",
    "\n",
    "    loss_fn = nn.CrossEntropyLoss()\n",
    "    optimizer = torch.optim.SGD(model.parameters(), lr=learning)\n",
    "\n",
    "    epochs = 50\n",
    "    for t in range(50):\n",
    "        train(train_dataloader, model, loss_fn, optimizer, device)\n",
    "        accuracy, error = test(test_dataloader, model, loss_fn, device)\n",
    "\n",
    "    accuracys.append(accuracy)\n",
    "    errors.append(error)\n",
    "\n",
    "df = pd.DataFrame({'Accuracy': accuracys, 'Error': errors})\n",
    "df.to_csv('../data/results/BF_vgg16_bestConfig.csv', index=False)\n",
    "df"
   ]
  },
  {
   "cell_type": "markdown",
   "metadata": {},
   "source": [
    "-------------------------------"
   ]
  }
 ],
 "metadata": {
  "kernelspec": {
   "display_name": "Python 3",
   "language": "python",
   "name": "python3"
  },
  "language_info": {
   "codemirror_mode": {
    "name": "ipython",
    "version": 3
   },
   "file_extension": ".py",
   "mimetype": "text/x-python",
   "name": "python",
   "nbconvert_exporter": "python",
   "pygments_lexer": "ipython3",
   "version": "3.11.4"
  }
 },
 "nbformat": 4,
 "nbformat_minor": 2
}
