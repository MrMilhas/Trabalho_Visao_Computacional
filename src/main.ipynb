{
 "cells": [
  {
   "cell_type": "markdown",
   "metadata": {},
   "source": [
    "# Trabalho de Visão Computacional"
   ]
  },
  {
   "cell_type": "markdown",
   "metadata": {},
   "source": [
    "## Importação das Bibliotecas:"
   ]
  },
  {
   "cell_type": "code",
   "execution_count": 16,
   "metadata": {},
   "outputs": [
    {
     "name": "stdout",
     "output_type": "stream",
     "text": [
      "Using cpu device\n"
     ]
    }
   ],
   "source": [
    "import torch\n",
    "from torch import nn\n",
    "from torch.utils.data import DataLoader\n",
    "from torchvision import datasets\n",
    "from torchvision.transforms import ToTensor\n",
    "\n",
    "import glob as gb\n",
    "import os\n",
    "from importlib import reload\n",
    "import sys\n",
    "from tqdm import tqdm\n",
    "import pandas as pd\n",
    "\n",
    "from models.alexNet import MY_AlexNet\n",
    "from models.vgg16 import MY_VGG16\n",
    "from utils.utils import *\n",
    "\n",
    "device = \"cuda\" if torch.cuda.is_available() else \"cpu\"\n",
    "print(f\"Using {device} device\")"
   ]
  },
  {
   "cell_type": "markdown",
   "metadata": {},
   "source": [
    "--------------------------------------"
   ]
  },
  {
   "cell_type": "markdown",
   "metadata": {},
   "source": [
    "## Configuração dos Datasets:"
   ]
  },
  {
   "cell_type": "markdown",
   "metadata": {},
   "source": [
    "* CIFAR-10:"
   ]
  },
  {
   "cell_type": "code",
   "execution_count": 2,
   "metadata": {},
   "outputs": [
    {
     "name": "stdout",
     "output_type": "stream",
     "text": [
      "Files already downloaded and verified\n",
      "Files already downloaded and verified\n"
     ]
    }
   ],
   "source": [
    "training_data_C10 = datasets.CIFAR10(\n",
    "    root=\"../data/datasets/\",\n",
    "    train=True,\n",
    "    download=True,\n",
    "    transform=ToTensor(),\n",
    ")\n",
    "\n",
    "test_data_C10 = datasets.CIFAR10(\n",
    "    root=\"../data/datasets/\",\n",
    "    train=False,\n",
    "    download=True,\n",
    "    transform=ToTensor(),\n",
    ")"
   ]
  },
  {
   "cell_type": "code",
   "execution_count": 3,
   "metadata": {},
   "outputs": [
    {
     "data": {
      "text/plain": [
       "(Dataset CIFAR10\n",
       "     Number of datapoints: 50000\n",
       "     Root location: ../data/datasets/\n",
       "     Split: Train\n",
       "     StandardTransform\n",
       " Transform: ToTensor(),\n",
       " Dataset CIFAR10\n",
       "     Number of datapoints: 10000\n",
       "     Root location: ../data/datasets/\n",
       "     Split: Test\n",
       "     StandardTransform\n",
       " Transform: ToTensor())"
      ]
     },
     "execution_count": 3,
     "metadata": {},
     "output_type": "execute_result"
    }
   ],
   "source": [
    "training_data_C10, test_data_C10"
   ]
  },
  {
   "cell_type": "markdown",
   "metadata": {},
   "source": [
    "* Building-vs-forests:"
   ]
  },
  {
   "cell_type": "code",
   "execution_count": 11,
   "metadata": {},
   "outputs": [],
   "source": [
    "from zipfile import ZipFile\n",
    "\n",
    "with ZipFile(\"../data/datasets/buildings-vs-forests/test_set.zip\", 'r') as zip_ref:\n",
    "    zip_ref.extractall(\"../data/datasets/buildings-vs-forests/\")\n",
    "    \n",
    "with ZipFile(\"../data/datasets/buildings-vs-forests/traning_set.zip\", 'r') as zip_ref:\n",
    "    zip_ref.extractall(\"../data/datasets/buildings-vs-forests/\")"
   ]
  },
  {
   "cell_type": "code",
   "execution_count": 41,
   "metadata": {},
   "outputs": [
    {
     "name": "stdout",
     "output_type": "stream",
     "text": [
      "we have 4443 in x_train\n",
      "we have 4443 in y_train\n",
      "we have 911 in x_test\n",
      "we have 911 in y_test\n"
     ]
    }
   ],
   "source": [
    "import cv2\n",
    "import os\n",
    "import glob as gb\n",
    "import torch\n",
    "import torchvision.transforms as transforms\n",
    "from torch.utils.data import DataLoader, TensorDataset\n",
    "import numpy as np\n",
    "from sklearn.preprocessing import LabelEncoder\n",
    "\n",
    "trian_path = '../data/datasets/buildings-vs-forests/traning_set'\n",
    "test_path = '../data/datasets/buildings-vs-forests/test_set'\n",
    "\n",
    "#Resize the images\n",
    "size_images = 50\n",
    "\n",
    "x_train = []\n",
    "y_train = []\n",
    "\n",
    "for folder in os.listdir(trian_path):\n",
    "    files = gb.glob(pathname = str(trian_path + '//' + folder + '/*jpg'))\n",
    "    for file in files:\n",
    "        imge = cv2.imread(file)\n",
    "        #normalized images after read it\n",
    "        imge = imge/255.0\n",
    "        #resize images with (150,150)\n",
    "        imge_arr = cv2.resize(imge ,(size_images, size_images))\n",
    "        x_train.append(list(imge_arr))\n",
    "        y_train.append(folder)\n",
    "\n",
    "print(f'we have {len(x_train)} in x_train')\n",
    "print(f'we have {len(y_train)} in y_train')\n",
    "\n",
    "x_test = []\n",
    "y_test = []\n",
    "\n",
    "for folder in os.listdir(test_path):\n",
    "    files = gb.glob(pathname = str(test_path + '//' + folder + '/*jpg'))\n",
    "    for file in files:\n",
    "        imge = cv2.imread(file)\n",
    "        imge = imge/255.0\n",
    "        imge_arr = cv2.resize(imge ,(size_images, size_images))\n",
    "        x_test.append(list(imge_arr))\n",
    "        y_test.append(folder)\n",
    "\n",
    "print(f'we have {len(x_test)} in x_test')\n",
    "print(f'we have {len(y_test)} in y_test')\n",
    "\n",
    "\n",
    "x_train, y_train, x_test, y_test = map(np.array, (x_train, y_train, x_test, y_test))\n",
    "\n",
    "\n",
    "label_encoder = LabelEncoder()\n",
    "y_train = label_encoder.fit_transform(y_train)\n",
    "y_test = label_encoder.transform(y_test)"
   ]
  },
  {
   "cell_type": "code",
   "execution_count": 91,
   "metadata": {},
   "outputs": [
    {
     "name": "stderr",
     "output_type": "stream",
     "text": [
      "/tmp/ipykernel_11534/2227631008.py:2: UserWarning: To copy construct from a tensor, it is recommended to use sourceTensor.clone().detach() or sourceTensor.clone().detach().requires_grad_(True), rather than torch.tensor(sourceTensor).\n",
      "  x_train = torch.tensor(x_train, dtype=torch.float32)\n",
      "/tmp/ipykernel_11534/2227631008.py:3: UserWarning: To copy construct from a tensor, it is recommended to use sourceTensor.clone().detach() or sourceTensor.clone().detach().requires_grad_(True), rather than torch.tensor(sourceTensor).\n",
      "  y_train = torch.tensor(y_train, dtype=torch.long)\n",
      "/tmp/ipykernel_11534/2227631008.py:4: UserWarning: To copy construct from a tensor, it is recommended to use sourceTensor.clone().detach() or sourceTensor.clone().detach().requires_grad_(True), rather than torch.tensor(sourceTensor).\n",
      "  x_test = torch.tensor(x_test, dtype=torch.float32)\n",
      "/tmp/ipykernel_11534/2227631008.py:5: UserWarning: To copy construct from a tensor, it is recommended to use sourceTensor.clone().detach() or sourceTensor.clone().detach().requires_grad_(True), rather than torch.tensor(sourceTensor).\n",
      "  y_test = torch.tensor(y_test, dtype=torch.long)\n"
     ]
    }
   ],
   "source": [
    "# x_train, y_train, x_test, y_test = map(torch.tensor, (x_train, y_train, x_test, y_test), dtype=torch.float32)\n",
    "x_train = torch.tensor(x_train, dtype=torch.float32)\n",
    "y_train = torch.tensor(y_train, dtype=torch.long)\n",
    "x_test = torch.tensor(x_test, dtype=torch.float32)\n",
    "y_test = torch.tensor(y_test, dtype=torch.long)\n",
    "# Define transformations (remove transforms.ToTensor())\n",
    "# transform = transforms.Compose([])\n",
    "\n",
    "# # Apply transformations\n",
    "# x_train = torch.stack([transform(img) for img in x_train])\n",
    "# x_test = torch.stack([transform(img) for img in x_test])\n",
    "\n",
    "# Create TensorDataset\n",
    "train_data_BF = TensorDataset(x_train, y_train)\n",
    "test_data_BF = TensorDataset(x_test, y_test)\n",
    "\n",
    "train_data_BF = TensorDataset(x_train.permute(0, 3, 1, 2), y_train)\n",
    "test_data_BF = TensorDataset(x_test.permute(0, 3, 1, 2), y_test)"
   ]
  },
  {
   "cell_type": "code",
   "execution_count": 92,
   "metadata": {},
   "outputs": [
    {
     "data": {
      "text/plain": [
       "torch.Size([911, 3, 50, 50])"
      ]
     },
     "execution_count": 92,
     "metadata": {},
     "output_type": "execute_result"
    }
   ],
   "source": [
    "train_data_BF.tensors[0].shape\n",
    "test_data_BF.tensors[0].shape"
   ]
  },
  {
   "cell_type": "markdown",
   "metadata": {},
   "source": [
    "---------------------"
   ]
  },
  {
   "cell_type": "markdown",
   "metadata": {},
   "source": [
    "## Configuração dos Modelos:"
   ]
  },
  {
   "cell_type": "code",
   "execution_count": 93,
   "metadata": {},
   "outputs": [
    {
     "name": "stdout",
     "output_type": "stream",
     "text": [
      "Shape of X [N, C, H, W]: torch.Size([64, 3, 50, 50])\n",
      "Shape of y: torch.Size([64]) torch.int64\n",
      "tensor([[[[0.1333, 0.2314, 0.1098,  ..., 0.3725, 0.3608, 0.1451],\n",
      "          [0.1647, 0.1255, 0.1725,  ..., 0.3647, 0.3020, 0.1216],\n",
      "          [0.1765, 0.1569, 0.1961,  ..., 0.3843, 0.1843, 0.2000],\n",
      "          ...,\n",
      "          [0.0941, 0.1216, 0.0392,  ..., 0.0196, 0.0000, 0.0667],\n",
      "          [0.1765, 0.1569, 0.0706,  ..., 0.0431, 0.0039, 0.0039],\n",
      "          [0.1804, 0.1882, 0.0118,  ..., 0.0471, 0.0000, 0.0078]],\n",
      "\n",
      "         [[0.0078, 0.0941, 0.0235,  ..., 0.2706, 0.2588, 0.1333],\n",
      "          [0.0745, 0.0353, 0.0235,  ..., 0.2667, 0.2196, 0.0392],\n",
      "          [0.0588, 0.0431, 0.0980,  ..., 0.2784, 0.1294, 0.1333],\n",
      "          ...,\n",
      "          [0.1059, 0.1490, 0.0471,  ..., 0.0078, 0.0000, 0.0588],\n",
      "          [0.1686, 0.1373, 0.0706,  ..., 0.0078, 0.0039, 0.0039],\n",
      "          [0.1529, 0.1451, 0.0039,  ..., 0.0275, 0.0000, 0.0078]],\n",
      "\n",
      "         [[0.0000, 0.0784, 0.0000,  ..., 0.2471, 0.2588, 0.1412],\n",
      "          [0.0431, 0.0039, 0.0039,  ..., 0.2510, 0.2314, 0.0353],\n",
      "          [0.0392, 0.0235, 0.0588,  ..., 0.2627, 0.1333, 0.1216],\n",
      "          ...,\n",
      "          [0.1216, 0.1608, 0.0863,  ..., 0.0000, 0.0000, 0.0549],\n",
      "          [0.1647, 0.1333, 0.0941,  ..., 0.0000, 0.0039, 0.0039],\n",
      "          [0.1412, 0.1294, 0.0039,  ..., 0.0353, 0.0000, 0.0078]]],\n",
      "\n",
      "\n",
      "        [[[0.0000, 0.0000, 0.9765,  ..., 0.8980, 0.0000, 0.0000],\n",
      "          [0.0000, 0.0000, 0.9686,  ..., 0.9059, 0.0000, 0.0000],\n",
      "          [0.0000, 0.0000, 0.9686,  ..., 0.8863, 0.0000, 0.0000],\n",
      "          ...,\n",
      "          [0.0196, 0.0000, 0.1647,  ..., 0.8667, 0.0000, 0.0000],\n",
      "          [0.0078, 0.0000, 0.1843,  ..., 0.9098, 0.0000, 0.0000],\n",
      "          [0.0118, 0.0000, 0.1176,  ..., 0.8667, 0.0000, 0.0000]],\n",
      "\n",
      "         [[0.0039, 0.0000, 0.9961,  ..., 0.9333, 0.0000, 0.0000],\n",
      "          [0.0000, 0.0000, 1.0000,  ..., 0.9647, 0.0000, 0.0000],\n",
      "          [0.0000, 0.0000, 0.9961,  ..., 0.9451, 0.0000, 0.0000],\n",
      "          ...,\n",
      "          [0.0039, 0.0039, 0.2667,  ..., 0.9216, 0.0000, 0.0000],\n",
      "          [0.0000, 0.0000, 0.2588,  ..., 0.9647, 0.0000, 0.0000],\n",
      "          [0.0039, 0.0000, 0.1804,  ..., 0.9216, 0.0000, 0.0000]],\n",
      "\n",
      "         [[0.0000, 0.0000, 1.0000,  ..., 0.9843, 0.0000, 0.0000],\n",
      "          [0.0039, 0.0039, 1.0000,  ..., 1.0000, 0.0000, 0.0000],\n",
      "          [0.0039, 0.0039, 1.0000,  ..., 0.9804, 0.0000, 0.0000],\n",
      "          ...,\n",
      "          [0.0000, 0.0039, 0.3333,  ..., 0.9686, 0.0000, 0.0000],\n",
      "          [0.0000, 0.0039, 0.3176,  ..., 1.0000, 0.0000, 0.0000],\n",
      "          [0.0039, 0.0039, 0.2314,  ..., 0.9686, 0.0000, 0.0000]]],\n",
      "\n",
      "\n",
      "        [[[0.8667, 0.8667, 0.8667,  ..., 0.8824, 0.8824, 0.8863],\n",
      "          [0.8824, 0.8784, 0.8784,  ..., 0.8667, 0.8824, 0.8784],\n",
      "          [0.8784, 0.8863, 0.8941,  ..., 0.8510, 0.8706, 0.8745],\n",
      "          ...,\n",
      "          [0.0706, 0.0471, 0.0706,  ..., 0.2549, 0.1490, 0.2118],\n",
      "          [0.0667, 0.0980, 0.2431,  ..., 0.2118, 0.2000, 0.1804],\n",
      "          [0.7373, 0.0706, 0.2745,  ..., 0.1843, 0.2706, 0.2863]],\n",
      "\n",
      "         [[0.6627, 0.6627, 0.6627,  ..., 0.6157, 0.6157, 0.6235],\n",
      "          [0.6863, 0.6824, 0.6824,  ..., 0.6157, 0.6157, 0.6157],\n",
      "          [0.6902, 0.6980, 0.7059,  ..., 0.6039, 0.6157, 0.6118],\n",
      "          ...,\n",
      "          [0.0824, 0.0118, 0.0667,  ..., 0.1804, 0.0902, 0.1490],\n",
      "          [0.0471, 0.0353, 0.1765,  ..., 0.1490, 0.1137, 0.0902],\n",
      "          [0.5804, 0.0196, 0.1922,  ..., 0.0980, 0.1843, 0.2000]],\n",
      "\n",
      "         [[0.5176, 0.5176, 0.5176,  ..., 0.3608, 0.3529, 0.3529],\n",
      "          [0.5451, 0.5412, 0.5412,  ..., 0.3647, 0.3529, 0.3451],\n",
      "          [0.5569, 0.5647, 0.5647,  ..., 0.3647, 0.3490, 0.3412],\n",
      "          ...,\n",
      "          [0.0745, 0.0000, 0.0510,  ..., 0.1490, 0.0784, 0.0980],\n",
      "          [0.0353, 0.0392, 0.1647,  ..., 0.1216, 0.0706, 0.0588],\n",
      "          [0.5098, 0.0000, 0.2039,  ..., 0.0510, 0.1373, 0.1569]]],\n",
      "\n",
      "\n",
      "        ...,\n",
      "\n",
      "\n",
      "        [[[0.1451, 0.0627, 0.1059,  ..., 0.1804, 0.6627, 0.1765],\n",
      "          [0.6706, 0.6510, 0.7294,  ..., 0.2196, 0.6118, 0.9333],\n",
      "          [0.2275, 0.1843, 0.2118,  ..., 0.8784, 0.3059, 0.2549],\n",
      "          ...,\n",
      "          [0.2745, 0.4431, 0.2667,  ..., 0.8471, 0.8980, 0.8627],\n",
      "          [0.5647, 0.5412, 0.5098,  ..., 0.6824, 0.6353, 0.4706],\n",
      "          [0.3569, 0.4706, 0.2353,  ..., 0.9216, 0.8863, 0.9176]],\n",
      "\n",
      "         [[0.1608, 0.0784, 0.1216,  ..., 0.1922, 0.6824, 0.1961],\n",
      "          [0.6471, 0.6353, 0.7137,  ..., 0.2392, 0.6353, 0.9490],\n",
      "          [0.2510, 0.2078, 0.2353,  ..., 0.8431, 0.3333, 0.2706],\n",
      "          ...,\n",
      "          [0.3294, 0.4863, 0.3412,  ..., 0.8431, 0.8902, 0.8510],\n",
      "          [0.5882, 0.6078, 0.5765,  ..., 0.6745, 0.6118, 0.4510],\n",
      "          [0.4196, 0.5294, 0.4000,  ..., 0.9137, 0.8745, 0.9059]],\n",
      "\n",
      "         [[0.1176, 0.0353, 0.0784,  ..., 0.1569, 0.6471, 0.1608],\n",
      "          [0.6039, 0.5922, 0.6706,  ..., 0.2039, 0.5922, 0.9059],\n",
      "          [0.2078, 0.1647, 0.1922,  ..., 0.8078, 0.3059, 0.2510],\n",
      "          ...,\n",
      "          [0.3059, 0.4784, 0.3294,  ..., 0.8039, 0.8588, 0.8314],\n",
      "          [0.5686, 0.5922, 0.5608,  ..., 0.6314, 0.5843, 0.4157],\n",
      "          [0.3922, 0.5137, 0.3569,  ..., 0.8706, 0.8431, 0.8745]]],\n",
      "\n",
      "\n",
      "        [[[0.7961, 0.9373, 0.6980,  ..., 1.0000, 0.9922, 1.0000],\n",
      "          [0.6745, 0.7686, 0.7020,  ..., 0.9804, 1.0000, 1.0000],\n",
      "          [0.9098, 0.7686, 0.5333,  ..., 0.9608, 0.9961, 0.9961],\n",
      "          ...,\n",
      "          [0.5765, 0.5647, 0.5725,  ..., 0.9490, 0.8235, 0.5137],\n",
      "          [0.5412, 0.5608, 0.5647,  ..., 0.6627, 0.6745, 0.6510],\n",
      "          [0.6196, 0.4863, 0.5686,  ..., 0.5882, 0.5843, 0.5765]],\n",
      "\n",
      "         [[0.8235, 0.9529, 0.7922,  ..., 0.9451, 0.9373, 0.9804],\n",
      "          [0.7765, 0.8863, 0.7843,  ..., 0.9922, 1.0000, 1.0000],\n",
      "          [0.9725, 0.8196, 0.5490,  ..., 0.9490, 0.9961, 0.9961],\n",
      "          ...,\n",
      "          [0.5843, 0.5882, 0.5922,  ..., 0.9412, 0.8196, 0.5255],\n",
      "          [0.5490, 0.5843, 0.5882,  ..., 0.7059, 0.7216, 0.6980],\n",
      "          [0.6392, 0.5098, 0.5922,  ..., 0.6039, 0.6039, 0.5961]],\n",
      "\n",
      "         [[0.8353, 0.9725, 0.8157,  ..., 0.9490, 0.8902, 0.9294],\n",
      "          [0.8039, 0.9294, 0.7922,  ..., 1.0000, 0.9843, 0.9843],\n",
      "          [1.0000, 0.8510, 0.5686,  ..., 1.0000, 0.9961, 0.9961],\n",
      "          ...,\n",
      "          [0.5843, 0.5843, 0.5882,  ..., 0.9412, 0.8275, 0.5451],\n",
      "          [0.5490, 0.5804, 0.5843,  ..., 0.7216, 0.7373, 0.7216],\n",
      "          [0.6353, 0.5059, 0.5882,  ..., 0.6235, 0.6078, 0.6000]]],\n",
      "\n",
      "\n",
      "        [[[0.4000, 0.3765, 0.4353,  ..., 0.7922, 0.4902, 0.7843],\n",
      "          [0.3843, 0.3490, 0.4353,  ..., 0.8078, 0.4510, 0.2588],\n",
      "          [0.4863, 0.0078, 0.4745,  ..., 0.8392, 0.4706, 0.6784],\n",
      "          ...,\n",
      "          [0.1961, 0.4549, 0.4157,  ..., 0.6549, 0.2667, 0.6000],\n",
      "          [0.2863, 0.4392, 0.3451,  ..., 0.6627, 0.2980, 0.6980],\n",
      "          [0.2980, 0.4275, 0.3647,  ..., 0.6549, 0.3137, 0.6510]],\n",
      "\n",
      "         [[0.4000, 0.3765, 0.4353,  ..., 0.7922, 0.4902, 0.7843],\n",
      "          [0.3843, 0.3490, 0.4353,  ..., 0.8078, 0.4510, 0.2588],\n",
      "          [0.4863, 0.0078, 0.4745,  ..., 0.8392, 0.4706, 0.6784],\n",
      "          ...,\n",
      "          [0.1961, 0.4549, 0.4157,  ..., 0.6549, 0.2667, 0.6000],\n",
      "          [0.2863, 0.4392, 0.3451,  ..., 0.6627, 0.2980, 0.6980],\n",
      "          [0.2980, 0.4275, 0.3647,  ..., 0.6549, 0.3137, 0.6510]],\n",
      "\n",
      "         [[0.4000, 0.3765, 0.4353,  ..., 0.7922, 0.4902, 0.7843],\n",
      "          [0.3843, 0.3490, 0.4353,  ..., 0.8078, 0.4510, 0.2588],\n",
      "          [0.4863, 0.0078, 0.4745,  ..., 0.8392, 0.4706, 0.6784],\n",
      "          ...,\n",
      "          [0.1961, 0.4549, 0.4157,  ..., 0.6549, 0.2667, 0.6000],\n",
      "          [0.2863, 0.4392, 0.3451,  ..., 0.6627, 0.2980, 0.6980],\n",
      "          [0.2980, 0.4275, 0.3647,  ..., 0.6549, 0.3137, 0.6510]]]])\n"
     ]
    }
   ],
   "source": [
    "# Para a base de building-vs-forests \n",
    "batch_size = 64\n",
    "\n",
    "# Define os dataloaders\n",
    "train_dataloader = DataLoader(train_data_BF, batch_size=batch_size)\n",
    "test_dataloader = DataLoader(test_data_BF, batch_size=batch_size)\n",
    "\n",
    "# Mostra as dimensões de cada item no iterável dataloader\n",
    "for X, y in test_dataloader:\n",
    "    # X = X.permute(0, 3, 1, 2)\n",
    "    print(f\"Shape of X [N, C, H, W]: {X.shape}\")\n",
    "    print(f\"Shape of y: {y.shape} {y.dtype}\")\n",
    "    \n",
    "    print(X)\n",
    "    break"
   ]
  },
  {
   "cell_type": "code",
   "execution_count": 4,
   "metadata": {},
   "outputs": [
    {
     "name": "stdout",
     "output_type": "stream",
     "text": [
      "Shape of X [N, C, H, W]: torch.Size([64, 3, 32, 32])\n",
      "Shape of y: torch.Size([64]) torch.int64\n"
     ]
    }
   ],
   "source": [
    "batch_size = 64\n",
    "\n",
    "# Define os dataloaders\n",
    "train_dataloader = DataLoader(training_data_C10, batch_size=batch_size)\n",
    "test_dataloader = DataLoader(test_data_C10, batch_size=batch_size)\n",
    "\n",
    "# Mostra as dimensões de cada item no iterável dataloader\n",
    "for X, y in test_dataloader:\n",
    "    print(f\"Shape of X [N, C, H, W]: {X.shape}\")\n",
    "    print(f\"Shape of y: {y.shape} {y.dtype}\")\n",
    "    break"
   ]
  },
  {
   "cell_type": "code",
   "execution_count": 94,
   "metadata": {},
   "outputs": [],
   "source": [
    "del sys.modules['models.alexNet']\n",
    "del sys.modules['models.vgg16']\n",
    "\n",
    "from models.alexNet import MY_AlexNet\n",
    "from models.vgg16 import MY_VGG16\n",
    "\n",
    "model_1 = MY_VGG16(10)\n",
    "model_2 = MY_AlexNet(10)"
   ]
  },
  {
   "cell_type": "code",
   "execution_count": 95,
   "metadata": {},
   "outputs": [],
   "source": [
    "loss_fn = nn.CrossEntropyLoss()\n",
    "optimizer = torch.optim.SGD(model_2.parameters(), lr=1e-3)"
   ]
  },
  {
   "cell_type": "code",
   "execution_count": 96,
   "metadata": {},
   "outputs": [
    {
     "name": "stdout",
     "output_type": "stream",
     "text": [
      "Epoch 1\n",
      "-------------------------------\n",
      "loss: 2.312002 [    0/ 4443]\n",
      "Epoch average loss: 2.290040\n",
      "Test Error: \n",
      " Accuracy: 52.0%, Avg loss: 2.268319 \n",
      "\n",
      "Epoch 2\n",
      "-------------------------------\n",
      "loss: 2.271293 [    0/ 4443]\n",
      "Epoch average loss: 2.249568\n",
      "Test Error: \n",
      " Accuracy: 52.0%, Avg loss: 2.227874 \n",
      "\n",
      "Epoch 3\n",
      "-------------------------------\n",
      "loss: 2.232782 [    0/ 4443]\n",
      "Epoch average loss: 2.209660\n",
      "Test Error: \n",
      " Accuracy: 52.0%, Avg loss: 2.187552 \n",
      "\n",
      "Epoch 4\n",
      "-------------------------------\n",
      "loss: 2.193502 [    0/ 4443]\n",
      "Epoch average loss: 2.169602\n",
      "Test Error: \n",
      " Accuracy: 52.0%, Avg loss: 2.146815 \n",
      "\n",
      "Epoch 5\n",
      "-------------------------------\n",
      "loss: 2.153245 [    0/ 4443]\n",
      "Epoch average loss: 2.128611\n",
      "Test Error: \n",
      " Accuracy: 52.0%, Avg loss: 2.104863 \n",
      "\n",
      "Done!\n"
     ]
    }
   ],
   "source": [
    "epochs = 5\n",
    "for t in range(epochs):\n",
    "    print(f\"Epoch {t+1}\\n-------------------------------\")\n",
    "    train(train_dataloader, model_2, loss_fn, optimizer, device)\n",
    "    test(test_dataloader, model_2, loss_fn, device)\n",
    "print(\"Done!\")"
   ]
  },
  {
   "cell_type": "markdown",
   "metadata": {},
   "source": [
    "-----------------------"
   ]
  },
  {
   "cell_type": "markdown",
   "metadata": {},
   "source": [
    "## Treinamento e Avaliação - CIFAR10:"
   ]
  },
  {
   "cell_type": "markdown",
   "metadata": {},
   "source": [
    "### AlexNet:"
   ]
  },
  {
   "cell_type": "markdown",
   "metadata": {},
   "source": [
    "* Variando Epócas:"
   ]
  },
  {
   "cell_type": "code",
   "execution_count": null,
   "metadata": {},
   "outputs": [],
   "source": [
    "epochs = [5, 10, 20, 50]\n",
    "accuracys = []\n",
    "errors = []\n",
    "\n",
    "accuracy = 0\n",
    "error = 999\n",
    "\n",
    "for epoch in tqdm(epochs):\n",
    "    batch_size = 64\n",
    "    train_dataloader = DataLoader(training_data_C10, batch_size=batch_size)\n",
    "    test_dataloader = DataLoader(test_data_C10, batch_size=batch_size)\n",
    "\n",
    "    model = MY_AlexNet(n_classes = 10)\n",
    "    if torch.cuda.is_available():\n",
    "        model.cuda()\n",
    "\n",
    "    loss_fn = nn.CrossEntropyLoss()\n",
    "    optimizer = torch.optim.SGD(model.parameters(), lr=1e-3)\n",
    "\n",
    "    for t in range(epoch):\n",
    "        train(train_dataloader, model, loss_fn, optimizer, device)\n",
    "        accuracy, error = test(test_dataloader, model, loss_fn, device)\n",
    "    \n",
    "    accuracys.append(accuracy)\n",
    "    errors.append(error)\n",
    "\n",
    "df = pd.DataFrame({'Epochs': epochs, 'Accuracy': accuracys, 'Error': errors})\n",
    "df"
   ]
  },
  {
   "cell_type": "markdown",
   "metadata": {},
   "source": [
    "* Variando Batch Size:"
   ]
  },
  {
   "cell_type": "code",
   "execution_count": null,
   "metadata": {},
   "outputs": [],
   "source": [
    "batch_sizes = [32, 64, 128, 256]\n",
    "accuracys = []\n",
    "errors = []\n",
    "\n",
    "accuracy = 0\n",
    "error = 999\n",
    "\n",
    "for batch_size in batch_sizes:\n",
    "    train_dataloader = DataLoader(training_data_C10, batch_size=batch_size)\n",
    "    test_dataloader = DataLoader(test_data_C10, batch_size=batch_size)\n",
    "\n",
    "    model = MY_AlexNet(n_classes = 10)\n",
    "    if torch.cuda.is_available():\n",
    "        model.cuda()\n",
    "\n",
    "    loss_fn = nn.CrossEntropyLoss()\n",
    "    optimizer = torch.optim.SGD(model.parameters(), lr=1e-3)\n",
    "\n",
    "    epochs = 50\n",
    "    for t in range(50):\n",
    "        train(train_dataloader, model, loss_fn, optimizer, device)\n",
    "        accuracy, error = test(test_dataloader, model, loss_fn, device)\n",
    "        \n",
    "    accuracys.append(accuracy)\n",
    "    errors.append(error)\n",
    "\n",
    "df = pd.DataFrame({'Batch Size': batch_sizes, 'Accuracy': accuracys, 'Error': errors})"
   ]
  },
  {
   "cell_type": "markdown",
   "metadata": {},
   "source": [
    "* Variando Taxa de Aprendizado:"
   ]
  },
  {
   "cell_type": "code",
   "execution_count": null,
   "metadata": {},
   "outputs": [],
   "source": [
    "learnings = [1e-2, 1e-3, 1e-4, 1e-5]\n",
    "accuracys = []\n",
    "errors = []\n",
    "\n",
    "accuracy = 0\n",
    "error = 999\n",
    "\n",
    "for batch_size in batch_sizes:\n",
    "    train_dataloader = DataLoader(training_data_C10, batch_size=batch_size)\n",
    "    test_dataloader = DataLoader(test_data_C10, batch_size=batch_size)\n",
    "\n",
    "    model = MY_AlexNet(n_classes = 10)\n",
    "    if torch.cuda.is_available():\n",
    "        model.cuda()\n",
    "\n",
    "    loss_fn = nn.CrossEntropyLoss()\n",
    "    optimizer = torch.optim.SGD(model.parameters(), lr=1e-3)\n",
    "\n",
    "    epochs = 50\n",
    "    for t in range(50):\n",
    "        train(train_dataloader, model, loss_fn, optimizer, device)\n",
    "        accuracy, error = test(test_dataloader, model, loss_fn, device)\n",
    "\n",
    "    accuracys.append(accuracy)\n",
    "    errors.append(error)\n",
    "\n",
    "df = pd.DataFrame({'Learning Rate': learnings, 'Accuracy': accuracys, 'Error': errors})"
   ]
  },
  {
   "cell_type": "markdown",
   "metadata": {},
   "source": [
    "* Avaliando Melhor Configuração:"
   ]
  },
  {
   "cell_type": "code",
   "execution_count": null,
   "metadata": {},
   "outputs": [],
   "source": [
    "accuracys = []\n",
    "errors = []\n",
    "\n",
    "accuracy = 0\n",
    "error = 999\n",
    "\n",
    "batch_size = 32\n",
    "epochs = 50\n",
    "learning = 1e-2\n",
    "\n",
    "for i in range(3):\n",
    "    train_dataloader = DataLoader(training_data_C10, batch_size=batch_size)\n",
    "    test_dataloader = DataLoader(test_data_C10, batch_size=batch_size)\n",
    "\n",
    "    model = MY_AlexNet(n_classes = 10)\n",
    "    if torch.cuda.is_available():\n",
    "        model.cuda()\n",
    "\n",
    "    loss_fn = nn.CrossEntropyLoss()\n",
    "    optimizer = torch.optim.SGD(model.parameters(), lr=learning)\n",
    "\n",
    "    epochs = 50\n",
    "    for t in range(50):\n",
    "        train(train_dataloader, model, loss_fn, optimizer, device)\n",
    "        accuracy, error = test(test_dataloader, model, loss_fn, device)\n",
    "\n",
    "    accuracys.append(accuracy)\n",
    "    errors.append(error)\n",
    "\n",
    "df = pd.DataFrame({'Accuracy': accuracys, 'Error': errors})"
   ]
  },
  {
   "cell_type": "markdown",
   "metadata": {},
   "source": [
    "### VGG16:"
   ]
  },
  {
   "cell_type": "markdown",
   "metadata": {},
   "source": [
    "* Variando Épocas:"
   ]
  },
  {
   "cell_type": "code",
   "execution_count": null,
   "metadata": {},
   "outputs": [],
   "source": [
    "epochs = [5, 10, 20, 50]\n",
    "accuracys = []\n",
    "errors = []\n",
    "\n",
    "accuracy = 0\n",
    "error = 999\n",
    "\n",
    "for epoch in tqdm(epochs):\n",
    "    batch_size = 64\n",
    "    train_dataloader = DataLoader(training_data_C10, batch_size=batch_size)\n",
    "    test_dataloader = DataLoader(test_data_C10, batch_size=batch_size)\n",
    "\n",
    "    model = MY_VGG16(n_classes = 10)\n",
    "    if torch.cuda.is_available():\n",
    "        model.cuda()\n",
    "\n",
    "    loss_fn = nn.CrossEntropyLoss()\n",
    "    optimizer = torch.optim.SGD(model.parameters(), lr=1e-3)\n",
    "\n",
    "    for t in range(epoch):\n",
    "        train(train_dataloader, model, loss_fn, optimizer, device)\n",
    "        accuracy, error = test(test_dataloader, model, loss_fn, device)\n",
    "    \n",
    "    accuracys.append(accuracy)\n",
    "    errors.append(error)\n",
    "\n",
    "df = pd.DataFrame({'Epochs': epochs, 'Accuracy': accuracys, 'Error': errors})\n",
    "df"
   ]
  },
  {
   "cell_type": "markdown",
   "metadata": {},
   "source": [
    "* Variando Batch Size:"
   ]
  },
  {
   "cell_type": "code",
   "execution_count": null,
   "metadata": {},
   "outputs": [],
   "source": [
    "batch_sizes = [32, 64, 128, 256]\n",
    "accuracys = []\n",
    "errors = []\n",
    "\n",
    "accuracy = 0\n",
    "error = 999\n",
    "\n",
    "for batch_size in batch_sizes:\n",
    "    train_dataloader = DataLoader(training_data_C10, batch_size=batch_size)\n",
    "    test_dataloader = DataLoader(test_data_C10, batch_size=batch_size)\n",
    "\n",
    "    model = MY_VGG16(n_classes = 10)\n",
    "    if torch.cuda.is_available():\n",
    "        model.cuda()\n",
    "\n",
    "    loss_fn = nn.CrossEntropyLoss()\n",
    "    optimizer = torch.optim.SGD(model.parameters(), lr=1e-3)\n",
    "\n",
    "    epochs = 50\n",
    "    for t in range(50):\n",
    "        train(train_dataloader, model, loss_fn, optimizer, device)\n",
    "        accuracy, error = test(test_dataloader, model, loss_fn, device)\n",
    "        \n",
    "    accuracys.append(accuracy)\n",
    "    errors.append(error)\n",
    "\n",
    "df = pd.DataFrame({'Batch Size': batch_sizes, 'Accuracy': accuracys, 'Error': errors})"
   ]
  },
  {
   "cell_type": "markdown",
   "metadata": {},
   "source": [
    "* Variando Taxa de Aprendizado:"
   ]
  },
  {
   "cell_type": "code",
   "execution_count": null,
   "metadata": {},
   "outputs": [],
   "source": [
    "learnings = [1e-2, 1e-3, 1e-4, 1e-5]\n",
    "accuracys = []\n",
    "errors = []\n",
    "\n",
    "accuracy = 0\n",
    "error = 999\n",
    "\n",
    "for batch_size in batch_sizes:\n",
    "    train_dataloader = DataLoader(training_data_C10, batch_size=batch_size)\n",
    "    test_dataloader = DataLoader(test_data_C10, batch_size=batch_size)\n",
    "\n",
    "    model = MY_VGG16(n_classes = 10)\n",
    "    if torch.cuda.is_available():\n",
    "        model.cuda()\n",
    "\n",
    "    loss_fn = nn.CrossEntropyLoss()\n",
    "    optimizer = torch.optim.SGD(model.parameters(), lr=1e-3)\n",
    "\n",
    "    epochs = 50\n",
    "    for t in range(50):\n",
    "        train(train_dataloader, model, loss_fn, optimizer, device)\n",
    "        accuracy, error = test(test_dataloader, model, loss_fn, device)\n",
    "\n",
    "    accuracys.append(accuracy)\n",
    "    errors.append(error)\n",
    "\n",
    "df = pd.DataFrame({'Learning Rate': learnings, 'Accuracy': accuracys, 'Error': errors})"
   ]
  },
  {
   "cell_type": "markdown",
   "metadata": {},
   "source": [
    "* Avaliando Melhor Configuração:"
   ]
  },
  {
   "cell_type": "code",
   "execution_count": null,
   "metadata": {},
   "outputs": [],
   "source": [
    "accuracys = []\n",
    "errors = []\n",
    "\n",
    "accuracy = 0\n",
    "error = 999\n",
    "\n",
    "batch_size = 32\n",
    "epochs = 50\n",
    "learning = 1e-2\n",
    "\n",
    "for i in range(3):\n",
    "    train_dataloader = DataLoader(training_data_C10, batch_size=batch_size)\n",
    "    test_dataloader = DataLoader(test_data_C10, batch_size=batch_size)\n",
    "\n",
    "    model = MY_VGG16(n_classes = 10)\n",
    "    if torch.cuda.is_available():\n",
    "        model.cuda()\n",
    "\n",
    "    loss_fn = nn.CrossEntropyLoss()\n",
    "    optimizer = torch.optim.SGD(model.parameters(), lr=learning)\n",
    "\n",
    "    epochs = 50\n",
    "    for t in range(50):\n",
    "        train(train_dataloader, model, loss_fn, optimizer, device)\n",
    "        accuracy, error = test(test_dataloader, model, loss_fn, device)\n",
    "\n",
    "    accuracys.append(accuracy)\n",
    "    errors.append(error)\n",
    "\n",
    "df = pd.DataFrame({'Accuracy': accuracys, 'Error': errors})"
   ]
  },
  {
   "cell_type": "markdown",
   "metadata": {},
   "source": [
    "------------------------"
   ]
  },
  {
   "cell_type": "markdown",
   "metadata": {},
   "source": [
    "## Treinamento e Avaliação - Building-vs-Forest:"
   ]
  },
  {
   "cell_type": "code",
   "execution_count": null,
   "metadata": {},
   "outputs": [],
   "source": []
  }
 ],
 "metadata": {
  "kernelspec": {
   "display_name": "Python 3",
   "language": "python",
   "name": "python3"
  },
  "language_info": {
   "codemirror_mode": {
    "name": "ipython",
    "version": 3
   },
   "file_extension": ".py",
   "mimetype": "text/x-python",
   "name": "python",
   "nbconvert_exporter": "python",
   "pygments_lexer": "ipython3",
   "version": "3.11.4"
  }
 },
 "nbformat": 4,
 "nbformat_minor": 2
}
